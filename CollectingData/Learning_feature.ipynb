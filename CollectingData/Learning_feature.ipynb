{
 "cells": [
  {
   "cell_type": "code",
   "execution_count": 16,
   "id": "29eb25ad-7c79-442a-a10f-48abb3f38fe4",
   "metadata": {},
   "outputs": [],
   "source": [
    "import cv2\n",
    "import os\n",
    "import numpy as np\n",
    "import mediapipe as mp"
   ]
  },
  {
   "cell_type": "code",
   "execution_count": 17,
   "id": "5133a188-4eb9-41f8-9259-bd979437297e",
   "metadata": {},
   "outputs": [],
   "source": [
    "mp_drawing = mp.solutions.drawing_utils\n",
    "mp_holistic = mp.solutions.holistic"
   ]
  },
  {
   "cell_type": "code",
   "execution_count": 18,
   "id": "c6ba2e2d-f2bc-4c69-83ab-1c841c42eca6",
   "metadata": {},
   "outputs": [],
   "source": [
    "def mediapipe_detection(image, model):\n",
    "    image = cv2.cvtColor(image, cv2.COLOR_BGR2RGB)\n",
    "    results = model.process(image)\n",
    "    image = cv2.cvtColor(image, cv2.COLOR_RGB2BGR)\n",
    "    return image, results\n",
    "\n",
    "def draw_landmarks(image, results):\n",
    "    mp_drawing.draw_landmarks(image, results.pose_landmarks, mp_holistic.POSE_CONNECTIONS)\n",
    "    mp_drawing.draw_landmarks(image, results.left_hand_landmarks, mp_holistic.HAND_CONNECTIONS)\n",
    "    mp_drawing.draw_landmarks(image, results.right_hand_landmarks, mp_holistic.HAND_CONNECTIONS)"
   ]
  },
  {
   "cell_type": "code",
   "execution_count": 19,
   "id": "3fb65a38-d7e3-4198-9483-24b5ddded26b",
   "metadata": {},
   "outputs": [],
   "source": [
    "def extract_keypoints_normalized(results):\n",
    "    if results.left_hand_landmarks:\n",
    "        left_wrist = np.array([results.left_hand_landmarks.landmark[0].x,\n",
    "                               results.left_hand_landmarks.landmark[0].y,\n",
    "                               results.left_hand_landmarks.landmark[0].z])\n",
    "        left_hand = np.array([[res.x, res.y, res.z] for res in results.left_hand_landmarks.landmark]) - left_wrist\n",
    "    else:\n",
    "        left_hand = np.zeros((21, 3))\n",
    "\n",
    "    if results.right_hand_landmarks:\n",
    "        right_wrist = np.array([results.right_hand_landmarks.landmark[0].x,\n",
    "                                results.right_hand_landmarks.landmark[0].y,\n",
    "                                results.right_hand_landmarks.landmark[0].z])\n",
    "        right_hand = np.array([[res.x, res.y, res.z] for res in results.right_hand_landmarks.landmark]) - right_wrist\n",
    "    else:\n",
    "        right_hand = np.zeros((21, 3))\n",
    "\n",
    "    return np.concatenate([left_hand.flatten(), right_hand.flatten()])"
   ]
  },
  {
   "cell_type": "code",
   "execution_count": 20,
   "id": "3a5f7b77-22b0-46ff-b74b-b3ad3354709e",
   "metadata": {},
   "outputs": [],
   "source": [
    "def calculate_shape_similarity(user_keypoints, reference_keypoints, threshold=0.05):\n",
    "    errors = []\n",
    "    shape_differences = []\n",
    "    fingers_indices = {\n",
    "        'Thumb': range(1, 5),\n",
    "        'Index': range(5, 9),\n",
    "        'Middle': range(9, 13),\n",
    "        'Ring': range(13, 17),\n",
    "        'Pinky': range(17, 21)\n",
    "    }\n",
    "\n",
    "    left_hand_user = user_keypoints[:63].reshape(21, 3)\n",
    "    left_hand_ref = reference_keypoints[:63].reshape(21, 3)\n",
    "    right_hand_user = user_keypoints[63:].reshape(21, 3)\n",
    "    right_hand_ref = reference_keypoints[63:].reshape(21, 3)\n",
    "\n",
    "    for hand, (user_hand, ref_hand) in zip(['Left', 'Right'], [(left_hand_user, left_hand_ref), (right_hand_user, right_hand_ref)]):\n",
    "        for finger, indices in fingers_indices.items():\n",
    "            user_finger_shape = np.linalg.norm(user_hand[indices] - user_hand[0], axis=1)\n",
    "            ref_finger_shape = np.linalg.norm(ref_hand[indices] - ref_hand[0], axis=1)\n",
    "            shape_difference = np.linalg.norm(user_finger_shape - ref_finger_shape)\n",
    "            if shape_difference > threshold:\n",
    "                errors.append(f\"{hand} {finger} Shape Error: {shape_difference:.2f}\")\n",
    "                shape_differences.append(shape_difference)\n",
    "\n",
    "    score = 1 - np.mean(shape_differences) if shape_differences else 1\n",
    "    return score, errors"
   ]
  },
  {
   "cell_type": "code",
   "execution_count": null,
   "id": "bccb63e1-28fa-4ba2-8236-84894a571b16",
   "metadata": {},
   "outputs": [],
   "source": [
    "cap = cv2.VideoCapture(1)\n",
    "\n",
    "KEYPOINTS_PATH = 'Data/colectedkeypoints'\n",
    "\n",
    "#Nhập vào chữ muốn kiểm tra\n",
    "label = input(\"Enter keypoints folder: \")\n",
    "\n",
    "label_path = os.path.join(KEYPOINTS_PATH, label)\n",
    "\n",
    "if not os.path.exists(label_path):\n",
    "    print(f\"Path {label_path} does not exist.\")\n",
    "else:\n",
    "    for file in os.listdir(label_path):\n",
    "        if file.endswith('.npy'):\n",
    "            reference_keypoints = np.load(os.path.join(label_path, file))"
   ]
  },
  {
   "cell_type": "code",
   "execution_count": 33,
   "id": "30e50be8-ee14-4698-a239-a8b01bd2c432",
   "metadata": {},
   "outputs": [
    {
     "name": "stderr",
     "output_type": "stream",
     "text": [
      "I0000 00:00:1731068226.290906   11452 gl_context_egl.cc:85] Successfully initialized EGL. Major : 1 Minor: 5\n",
      "I0000 00:00:1731068226.292052   18200 gl_context.cc:357] GL version: 3.2 (OpenGL ES 3.2 Mesa 23.2.1-1ubuntu3.1~22.04.2), renderer: Mesa Intel(R) UHD Graphics (CML GT2)\n",
      "W0000 00:00:1731068226.368478   18191 inference_feedback_manager.cc:114] Feedback manager requires a model with a single signature inference. Disabling support for feedback tensors.\n",
      "W0000 00:00:1731068226.393464   18191 inference_feedback_manager.cc:114] Feedback manager requires a model with a single signature inference. Disabling support for feedback tensors.\n",
      "W0000 00:00:1731068226.394993   18190 inference_feedback_manager.cc:114] Feedback manager requires a model with a single signature inference. Disabling support for feedback tensors.\n",
      "W0000 00:00:1731068226.395445   18195 inference_feedback_manager.cc:114] Feedback manager requires a model with a single signature inference. Disabling support for feedback tensors.\n",
      "W0000 00:00:1731068226.396974   18192 inference_feedback_manager.cc:114] Feedback manager requires a model with a single signature inference. Disabling support for feedback tensors.\n",
      "W0000 00:00:1731068226.405191   18192 inference_feedback_manager.cc:114] Feedback manager requires a model with a single signature inference. Disabling support for feedback tensors.\n",
      "W0000 00:00:1731068226.410545   18193 inference_feedback_manager.cc:114] Feedback manager requires a model with a single signature inference. Disabling support for feedback tensors.\n",
      "W0000 00:00:1731068226.411837   18195 inference_feedback_manager.cc:114] Feedback manager requires a model with a single signature inference. Disabling support for feedback tensors.\n"
     ]
    }
   ],
   "source": [
    "with mp_holistic.Holistic(min_detection_confidence=0.5, min_tracking_confidence=0.5) as holistic:\n",
    "    while cap.isOpened():\n",
    "        ret, frame = cap.read()\n",
    "        if not ret:\n",
    "            break\n",
    "\n",
    "        image, results = mediapipe_detection(frame, holistic)\n",
    "        draw_landmarks(image, results)\n",
    "        \n",
    "        #Dữ liệu của người dùng đưa vào \n",
    "        user_keypoints = extract_keypoints_normalized(results)\n",
    "        \n",
    "        score, errors = calculate_shape_similarity(user_keypoints, reference_keypoints)\n",
    "\n",
    "        # cv2.putText(image, f\"Score: {score:.2f}\", (10, 40), cv2.FONT_HERSHEY_SIMPLEX, 1, (0, 255, 0), 2)\n",
    "        y_position = 80\n",
    "        for error in errors:\n",
    "            cv2.putText(image, error, (10, y_position), cv2.FONT_HERSHEY_SIMPLEX, 0.6, (0, 0, 255), 2)\n",
    "            y_position += 30\n",
    "\n",
    "        cv2.imshow(\"Sign Language Practice\", image)\n",
    "        if cv2.waitKey(10) & 0xFF == ord('q'):\n",
    "            break\n",
    "\n",
    "cap.release()\n",
    "cv2.destroyAllWindows()"
   ]
  },
  {
   "cell_type": "code",
   "execution_count": null,
   "id": "08a39c9f-219f-43fa-9aa7-36c33665d2f6",
   "metadata": {},
   "outputs": [],
   "source": []
  }
 ],
 "metadata": {
  "kernelspec": {
   "display_name": "Python 3 (ipykernel)",
   "language": "python",
   "name": "python3"
  },
  "language_info": {
   "codemirror_mode": {
    "name": "ipython",
    "version": 3
   },
   "file_extension": ".py",
   "mimetype": "text/x-python",
   "name": "python",
   "nbconvert_exporter": "python",
   "pygments_lexer": "ipython3",
   "version": "3.10.12"
  }
 },
 "nbformat": 4,
 "nbformat_minor": 5
}
